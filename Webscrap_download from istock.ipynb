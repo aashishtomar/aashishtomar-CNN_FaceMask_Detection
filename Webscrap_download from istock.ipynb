{
 "cells": [
  {
   "cell_type": "code",
   "execution_count": 13,
   "metadata": {},
   "outputs": [],
   "source": [
    "from selenium import webdriver\n",
    "from selenium.webdriver.common.keys import Keys\n",
    "from selenium.webdriver.support.ui import WebDriverWait\n",
    "import re\n",
    "\n",
    "from selenium.webdriver.common.by import By\n",
    "from selenium.webdriver.support import expected_conditions as EC\n",
    "from selenium.common.exceptions import (\n",
    "    ElementNotVisibleException\n",
    ")\n",
    "from selenium.common.exceptions import *\n",
    "import requests\n",
    "import shutil\n",
    "import time"
   ]
  },
  {
   "cell_type": "code",
   "execution_count": 14,
   "metadata": {},
   "outputs": [],
   "source": [
    "driver = webdriver.Chrome(executable_path='/Users/ashishtomar/Data Science/Brainstation/chromedriver')\n",
    "\n",
    "#Url is formed to apply all possible filter at shutterstock\n",
    "url='https://www.istockphoto.com/photos/people-wearing-face-masks?istockexclusive=yes&numberofpeople=one&phrase=people%20wearing%20face%20masks&sort=best'\n",
    "driver.wait = WebDriverWait(driver, 10)\n",
    "driver.get(url)\n",
    "final_matches=[]\n",
    "## This loop through until next button on page respond\n",
    "i=0\n",
    "while i<3:\n",
    "    try:\n",
    "        button = driver.wait.until(EC.presence_of_element_located(\n",
    "            (By.XPATH, \"/html/body/div[2]/section/div/main/section/div[3]/div/section/a[1]/div\")\n",
    "        ))\n",
    "            #(By.CLASS_NAME, \"loadmore\")))\n",
    "        button.click()\n",
    "        i+=1\n",
    "        matches = re.findall(r'\"contentUrl\":\"https:\\/\\/image\\.shutterstock\\.com\\/image-photo\\/[A-z0-9-]*\\.jpg\"', driver.page_source)\n",
    "        final_matches.append(matches)\n",
    "        time.sleep(1)\n",
    "    except ElementNotVisibleException:\n",
    "        time.sleep(1)\n",
    "## This pulls all the URL's under contentUrl to download images"
   ]
  },
  {
   "cell_type": "code",
   "execution_count": 71,
   "metadata": {},
   "outputs": [],
   "source": [
    "## This cleans the url's to make a final list of URL's  (URL's downloaded begins as img src= and ends with \")\n",
    "final_url = []\n",
    "for i in final_matches:\n",
    "    for j in i:\n",
    "        striped_url = j.lstrip(''''img src=\"''')\n",
    "        striped_url = striped_url.rstrip('\"')\n",
    "        final_url.append(striped_url)"
   ]
  },
  {
   "cell_type": "code",
   "execution_count": null,
   "metadata": {},
   "outputs": [],
   "source": [
    "##Download image files\n",
    "dirname='/Users/ashishtomar/Data Science/Capstone Project/CNN - Mask 2/Adobestock'\n",
    "suffix=0\n",
    "for links in final_url:\n",
    "    response = requests.get(links, stream=True)\n",
    "    suffix+=1\n",
    "    with open('{dirname}/adobe_{suffix}.jpg'.format(dirname=dirname, suffix=suffix), 'wb') as out_file:\n",
    "        shutil.copyfileobj(response.raw, out_file)"
   ]
  },
  {
   "cell_type": "raw",
   "metadata": {},
   "source": [
    "## A different approach but didnt used this one, it enters the page number and press enter\n",
    "while i<100:\n",
    "    try:\n",
    "        #button = driver.wait.until(EC.presence_of_element_located(\n",
    "         #   (By.XPATH, \"/html/body/div[1]/main/div/div/div[2]/div[2]/div[4]/div[5]/nav/span[3]/button/span/i\")\n",
    "        #))\n",
    "            #(By.CLASS_NAME, \"loadmore\")))\n",
    "        #button.click()\n",
    "        #driver.implicitly_wait(10)\n",
    "        driver.wait.until(EC.presence_of_element_located(\n",
    "         (By.XPATH, \"/html/body/div[1]/main/div/div/div[2]/div[2]/div[4]/div[5]/nav/form/input\")\n",
    "        )).clear()\n",
    "        driver.wait.until(EC.presence_of_element_located(\n",
    "         (By.XPATH, \"/html/body/div[1]/main/div/div/div[2]/div[2]/div[4]/div[5]/nav/form/input\")\n",
    "        )).send_keys(i)\n",
    "        driver.wait.until(EC.presence_of_element_located(\n",
    "         (By.XPATH, \"/html/body/div[1]/main/div/div/div[2]/div[2]/div[4]/div[5]/nav/form/input\")\n",
    "        )).send_keys(Keys.ENTER)\n",
    "        i+=1\n",
    "        matches = re.findall(r'img src=\"https:\\/\\/t4\\.ftcdn\\.net\\/jpg\\/[A-z0-9\\/]*\\.jpg\"', driver.page_source)\n",
    "        final_matches.append(matches)\n",
    "    except StaleElementReferenceException:\n",
    "       # driver.implicitly_wait(10)\n",
    "        driver.wait.until(EC.presence_of_element_located(\n",
    "         (By.XPATH, \"/html/body/div[1]/main/div/div/div[2]/div[2]/div[4]/div[5]/nav/form/input\")\n",
    "        )).clear()\n",
    "        driver.wait.until(EC.presence_of_element_located(\n",
    "         (By.XPATH, \"/html/body/div[1]/main/div/div/div[2]/div[2]/div[4]/div[5]/nav/form/input\")\n",
    "        )).send_keys(i)\n",
    "        driver.wait.until(EC.presence_of_element_located(\n",
    "         (By.XPATH, \"/html/body/div[1]/main/div/div/div[2]/div[2]/div[4]/div[5]/nav/form/input\")\n",
    "        )).send_keys(Keys.ENTER)\n",
    "        i+=1\n",
    "        matches = re.findall(r'img src=\"https:\\/\\/t4\\.ftcdn\\.net\\/jpg\\/[A-z0-9\\/]*\\.jpg\"', driver.page_source)\n",
    "        final_matches.append(matches)\n",
    "## This pulls all the URL's under contentUrl to download images\n",
    "#print(driver.page_source)\n",
    "\n",
    "wait.until(ExpectedConditions.refreshed(ExpectedConditions.stalenessOf(\"table\")));\n",
    "#element = driver.find_element_by_xpath(\"(//a[contains(@href, '')])[20]\")\n",
    "#driver.execute_script(\"arguments[0].click();\", element)"
   ]
  },
  {
   "cell_type": "code",
   "execution_count": null,
   "metadata": {},
   "outputs": [],
   "source": []
  }
 ],
 "metadata": {
  "kernelspec": {
   "display_name": "mask",
   "language": "python",
   "name": "mask"
  },
  "language_info": {
   "codemirror_mode": {
    "name": "ipython",
    "version": 3
   },
   "file_extension": ".py",
   "mimetype": "text/x-python",
   "name": "python",
   "nbconvert_exporter": "python",
   "pygments_lexer": "ipython3",
   "version": "3.8.6"
  }
 },
 "nbformat": 4,
 "nbformat_minor": 4
}
